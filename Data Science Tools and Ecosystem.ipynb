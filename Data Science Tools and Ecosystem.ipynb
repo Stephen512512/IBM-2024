{
 "cells": [
  {
   "cell_type": "markdown",
   "id": "70cabf9f-0e6d-4f71-baef-315eaccf6d12",
   "metadata": {},
   "source": [
    "# Data Science Tools and Ecosystem"
   ]
  },
  {
   "cell_type": "markdown",
   "id": "097d384e-7ea4-4fc6-9e92-bf708e539a61",
   "metadata": {},
   "source": [
    "In this notebook, Data Science Tools and Ecosystem are summarized."
   ]
  },
  {
   "cell_type": "markdown",
   "id": "012b5580-90d9-4ed1-aa27-0cde21986dec",
   "metadata": {},
   "source": [
    "Some of the popular languages that Data Scientists use are:\n",
    "1. python\n",
    "2. R\n",
    "3. SQL\n",
    "4. Julia\n"
   ]
  },
  {
   "cell_type": "markdown",
   "id": "df847a54-5db4-465b-89d1-893ad69e4fbd",
   "metadata": {},
   "source": [
    "Some of the commonly used libraries used by Data Scientists include:\n",
    "1. pandas\n",
    "2. Numpy\n",
    "3. Scipy"
   ]
  },
  {
   "cell_type": "markdown",
   "id": "6a30274d-9191-443f-86e7-610ecb962c33",
   "metadata": {},
   "source": [
    "|Data Science Tools|\n",
    "|---|\n",
    "|Jupyter|\n",
    "|Rstudio|\n",
    "|Mysql Woorkbench|"
   ]
  },
  {
   "cell_type": "markdown",
   "id": "fe19be7a-abe0-4acc-b595-c3135cd10369",
   "metadata": {},
   "source": [
    "### Below are a few examples of evaluating arithmetic expressions in Python"
   ]
  },
  {
   "cell_type": "code",
   "execution_count": 1,
   "id": "58de73bc-1bd9-4b35-9b4f-07cde1c69e49",
   "metadata": {},
   "outputs": [
    {
     "data": {
      "text/plain": [
       "17"
      ]
     },
     "execution_count": 1,
     "metadata": {},
     "output_type": "execute_result"
    }
   ],
   "source": [
    "#This a simple arithmetic expression to mutiply then add integers\n",
    "(3*4)+5"
   ]
  },
  {
   "cell_type": "code",
   "execution_count": 2,
   "id": "ce71d203-bb96-4b29-b2ba-087ede21bed4",
   "metadata": {},
   "outputs": [
    {
     "data": {
      "text/plain": [
       "3.3333333333333335"
      ]
     },
     "execution_count": 2,
     "metadata": {},
     "output_type": "execute_result"
    }
   ],
   "source": [
    "#This will convert 200 minutes to hours by diving by 60\n",
    "200/60"
   ]
  },
  {
   "cell_type": "markdown",
   "id": "458569cd-7f44-43f0-8732-1d25d3732d00",
   "metadata": {},
   "source": [
    "**Objectives:**\n",
    "* List popular languages for Data Science\n",
    "* List libraries for Data Science\n",
    "* List Tools for Data Science"
   ]
  },
  {
   "cell_type": "markdown",
   "id": "68118922-9198-4aa2-8f5c-f8054bf62e00",
   "metadata": {},
   "source": [
    "## Author\n",
    "SiYu Tao"
   ]
  },
  {
   "cell_type": "code",
   "execution_count": null,
   "id": "c89c5122-92da-4a0b-b872-f80c76566bd3",
   "metadata": {},
   "outputs": [],
   "source": []
  }
 ],
 "metadata": {
  "kernelspec": {
   "display_name": "Python 3 (ipykernel)",
   "language": "python",
   "name": "python3"
  },
  "language_info": {
   "codemirror_mode": {
    "name": "ipython",
    "version": 3
   },
   "file_extension": ".py",
   "mimetype": "text/x-python",
   "name": "python",
   "nbconvert_exporter": "python",
   "pygments_lexer": "ipython3",
   "version": "3.11.7"
  }
 },
 "nbformat": 4,
 "nbformat_minor": 5
}
